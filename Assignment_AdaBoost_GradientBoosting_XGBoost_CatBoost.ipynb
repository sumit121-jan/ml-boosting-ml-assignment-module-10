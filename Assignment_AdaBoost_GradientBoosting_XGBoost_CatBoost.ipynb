{
 "cells": [
  {
   "cell_type": "markdown",
   "id": "16b99a8b",
   "metadata": {},
   "source": [
    "## 14. Train an AdaBoost Classifier on a sample dataset and print model accuracy"
   ]
  },
  {
   "cell_type": "code",
   "execution_count": null,
   "id": "197b9ba8",
   "metadata": {},
   "outputs": [],
   "source": [
    "\n",
    "     from sklearn.ensemble import AdaBoostClassifier\n",
    "     from sklearn.datasets import load_iris\n",
    "     from sklearn.model_selection import train_test_split\n",
    "     from sklearn.metrics import accuracy_score\n",
    "     \n",
    "     # Load dataset and split\n",
    "     data = load_iris()\n",
    "     X = data.data\n",
    "     y = data.target\n",
    "     X_train, X_test, y_train, y_test = train_test_split(X, y, test_size=0.2, random_state=42)\n",
    "     \n",
    "     # Train AdaBoost Classifier\n",
    "     model = AdaBoostClassifier()\n",
    "     model.fit(X_train, y_train)\n",
    "     \n",
    "     # Predictions and accuracy\n",
    "     y_pred = model.predict(X_test)\n",
    "     accuracy = accuracy_score(y_test, y_pred)\n",
    "     print(f\"Accuracy: {accuracy:.4f}\")\n",
    "     "
   ]
  },
  {
   "cell_type": "markdown",
   "id": "befd4707",
   "metadata": {},
   "source": [
    "## 15. Train an AdaBoost Regressor and evaluate performance using Mean Absolute Error (MAE)"
   ]
  },
  {
   "cell_type": "code",
   "execution_count": null,
   "id": "11278cbb",
   "metadata": {},
   "outputs": [],
   "source": [
    "\n",
    "     from sklearn.ensemble import AdaBoostRegressor\n",
    "     from sklearn.metrics import mean_absolute_error\n",
    "     from sklearn.datasets import make_regression\n",
    "     from sklearn.model_selection import train_test_split\n",
    "     \n",
    "     # Create a regression dataset and split\n",
    "     X, y = make_regression(n_samples=100, n_features=2, noise=0.1, random_state=42)\n",
    "     X_train, X_test, y_train, y_test = train_test_split(X, y, test_size=0.2, random_state=42)\n",
    "     \n",
    "     # Train AdaBoost Regressor\n",
    "     model = AdaBoostRegressor()\n",
    "     model.fit(X_train, y_train)\n",
    "     \n",
    "     # Predictions and MAE\n",
    "     y_pred = model.predict(X_test)\n",
    "     mae = mean_absolute_error(y_test, y_pred)\n",
    "     print(f\"Mean Absolute Error (MAE): {mae:.4f}\")\n",
    "     "
   ]
  },
  {
   "cell_type": "markdown",
   "id": "b48efc7a",
   "metadata": {},
   "source": [
    "## 16. Train a Gradient Boosting Classifier on the Breast Cancer dataset and print feature importance"
   ]
  },
  {
   "cell_type": "code",
   "execution_count": null,
   "id": "00464857",
   "metadata": {},
   "outputs": [],
   "source": [
    "\n",
    "     from sklearn.ensemble import GradientBoostingClassifier\n",
    "     from sklearn.datasets import load_breast_cancer\n",
    "     from sklearn.model_selection import train_test_split\n",
    "     \n",
    "     # Load dataset and split\n",
    "     data = load_breast_cancer()\n",
    "     X = data.data\n",
    "     y = data.target\n",
    "     X_train, X_test, y_train, y_test = train_test_split(X, y, test_size=0.2, random_state=42)\n",
    "     \n",
    "     # Train Gradient Boosting Classifier\n",
    "     model = GradientBoostingClassifier()\n",
    "     model.fit(X_train, y_train)\n",
    "     \n",
    "     # Feature importance\n",
    "     feature_importance = model.feature_importances_\n",
    "     print(\"Feature Importance:\")\n",
    "     print(feature_importance)\n",
    "     "
   ]
  },
  {
   "cell_type": "markdown",
   "id": "92b56b1e",
   "metadata": {},
   "source": [
    "## 17. Train a Gradient Boosting Regressor and evaluate using R-Squared Score"
   ]
  },
  {
   "cell_type": "code",
   "execution_count": null,
   "id": "a4173b56",
   "metadata": {},
   "outputs": [],
   "source": [
    "\n",
    "     from sklearn.ensemble import GradientBoostingRegressor\n",
    "     from sklearn.metrics import r2_score\n",
    "     from sklearn.datasets import make_regression\n",
    "     from sklearn.model_selection import train_test_split\n",
    "     \n",
    "     # Create a regression dataset and split\n",
    "     X, y = make_regression(n_samples=100, n_features=2, noise=0.1, random_state=42)\n",
    "     X_train, X_test, y_train, y_test = train_test_split(X, y, test_size=0.2, random_state=42)\n",
    "     \n",
    "     # Train Gradient Boosting Regressor\n",
    "     model = GradientBoostingRegressor()\n",
    "     model.fit(X_train, y_train)\n",
    "     \n",
    "     # Predictions and R-Squared score\n",
    "     y_pred = model.predict(X_test)\n",
    "     r2 = r2_score(y_test, y_pred)\n",
    "     print(f\"R-Squared Score: {r2:.4f}\")\n",
    "     "
   ]
  },
  {
   "cell_type": "markdown",
   "id": "1e4d8495",
   "metadata": {},
   "source": [
    "## 18. Train an XGBoost Classifier on a dataset and compare accuracy with Gradient Boosting"
   ]
  },
  {
   "cell_type": "code",
   "execution_count": null,
   "id": "6a8a4584",
   "metadata": {},
   "outputs": [],
   "source": [
    "\n",
    "     from xgboost import XGBClassifier\n",
    "     from sklearn.ensemble import GradientBoostingClassifier\n",
    "     from sklearn.metrics import accuracy_score\n",
    "     from sklearn.datasets import load_iris\n",
    "     from sklearn.model_selection import train_test_split\n",
    "     \n",
    "     # Load dataset and split\n",
    "     data = load_iris()\n",
    "     X = data.data\n",
    "     y = data.target\n",
    "     X_train, X_test, y_train, y_test = train_test_split(X, y, test_size=0.2, random_state=42)\n",
    "     \n",
    "     # Train XGBoost Classifier\n",
    "     model_xgb = XGBClassifier()\n",
    "     model_xgb.fit(X_train, y_train)\n",
    "     y_pred_xgb = model_xgb.predict(X_test)\n",
    "     accuracy_xgb = accuracy_score(y_test, y_pred_xgb)\n",
    "     \n",
    "     # Train Gradient Boosting Classifier\n",
    "     model_gb = GradientBoostingClassifier()\n",
    "     model_gb.fit(X_train, y_train)\n",
    "     y_pred_gb = model_gb.predict(X_test)\n",
    "     accuracy_gb = accuracy_score(y_test, y_pred_gb)\n",
    "     \n",
    "     print(f\"XGBoost Accuracy: {accuracy_xgb:.4f}\")\n",
    "     print(f\"Gradient Boosting Accuracy: {accuracy_gb:.4f}\")\n",
    "     "
   ]
  }
 ],
 "metadata": {},
 "nbformat": 4,
 "nbformat_minor": 5
}
